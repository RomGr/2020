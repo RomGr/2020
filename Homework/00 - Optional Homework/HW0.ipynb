{
 "cells": [
  {
   "cell_type": "code",
   "execution_count": 27,
   "metadata": {},
   "outputs": [],
   "source": [
    "# Useful starting lines\n",
    "%matplotlib inline\n",
    "import numpy as np\n",
    "import matplotlib.pyplot as plt\n",
    "%load_ext autoreload\n",
    "%autoreload 2"
   ]
  },
  {
   "cell_type": "markdown",
   "metadata": {},
   "source": [
    "Import the data"
   ]
  },
  {
   "cell_type": "code",
   "execution_count": 28,
   "metadata": {},
   "outputs": [],
   "source": [
    "import pandas as pd\n",
    "data = pd.read_csv('https://raw.githubusercontent.com/fivethirtyeight/guns-data/master/full_data.csv')"
   ]
  },
  {
   "cell_type": "markdown",
   "metadata": {},
   "source": [
    "- Nearly *two-thirds* of gun deaths are *suicides*."
   ]
  },
  {
   "cell_type": "code",
   "execution_count": 58,
   "metadata": {},
   "outputs": [
    {
     "name": "stdout",
     "output_type": "stream",
     "text": [
      "62.674854659814685\n"
     ]
    }
   ],
   "source": [
    "intent=data['intent']\n",
    "suicides=data[data['intent']=='Suicide']\n",
    "prop_suicide=len(suicides)/len(data)*100\n",
    "print(prop_suicide)"
   ]
  },
  {
   "cell_type": "markdown",
   "metadata": {},
   "source": [
    "62.7% of gun deaths are suicides, which corresponds nearly to two-thirds of gun deaths: validated"
   ]
  },
  {
   "cell_type": "markdown",
   "metadata": {},
   "source": [
    "- More than *85 percent* of suicide victims are *male*."
   ]
  },
  {
   "cell_type": "code",
   "execution_count": 61,
   "metadata": {},
   "outputs": [
    {
     "name": "stdout",
     "output_type": "stream",
     "text": [
      "86.24614166996439\n"
     ]
    }
   ],
   "source": [
    "males=suicides[suicides['sex']=='M']\n",
    "prop_males=len(males)/len(suicides)*100\n",
    "print(prop_males)"
   ]
  },
  {
   "cell_type": "markdown",
   "metadata": {},
   "source": [
    "86.2% of suicide victimes are males, which is more than 85 percent: validated"
   ]
  },
  {
   "cell_type": "markdown",
   "metadata": {},
   "source": [
    "- Around *a third* of all gun deaths are *homicides*."
   ]
  },
  {
   "cell_type": "code",
   "execution_count": 66,
   "metadata": {},
   "outputs": [
    {
     "name": "stdout",
     "output_type": "stream",
     "text": [
      "34.89751780789302\n"
     ]
    }
   ],
   "source": [
    "homicides=data[data['intent']=='Homicide']\n",
    "prop_homicide=len(homicides)/len(data)*100\n",
    "print(prop_homicide)"
   ]
  },
  {
   "cell_type": "markdown",
   "metadata": {},
   "source": [
    "34.9% of gun deaths are homicides, which correpond roughly to one third of all gun deaths: validated"
   ]
  },
  {
   "cell_type": "markdown",
   "metadata": {},
   "source": [
    "- Around *two-thirds* of homicide victims who are *males* in the *age-group of 15--34* are *black*."
   ]
  },
  {
   "cell_type": "code",
   "execution_count": 76,
   "metadata": {},
   "outputs": [
    {
     "name": "stdout",
     "output_type": "stream",
     "text": [
      "66.12985685071575\n"
     ]
    }
   ],
   "source": [
    "spec=homicides[(homicides['sex']=='M') & (homicides['age']>=15) & (homicides['age']<=34)]\n",
    "spec_black=spec[(spec['race']=='Black')]\n",
    "prop_spec=len(spec_black)/len(spec)*100\n",
    "print(prop_spec)"
   ]
  },
  {
   "cell_type": "markdown",
   "metadata": {},
   "source": [
    "66.1% of homicide victimes who are males in the age-group 15-34 are black, which corresponds nearly to two-thirds of gun deaths: validated"
   ]
  },
  {
   "cell_type": "markdown",
   "metadata": {},
   "source": [
    "- *Women* constitue only *15 percent* of the total *homicide* victims."
   ]
  },
  {
   "cell_type": "code",
   "execution_count": 81,
   "metadata": {},
   "outputs": [
    {
     "name": "stdout",
     "output_type": "stream",
     "text": [
      "15.274619058448943\n"
     ]
    }
   ],
   "source": [
    "women=homicides[homicides['sex']=='F']\n",
    "prop_women=len(women)/len(homicides)*100\n",
    "print(prop_women)"
   ]
  },
  {
   "cell_type": "markdown",
   "metadata": {},
   "source": [
    "*Women* constitue 15.3% of the total *homicide* victims: validated"
   ]
  }
 ],
 "metadata": {
  "kernelspec": {
   "display_name": "Python 3",
   "language": "python",
   "name": "python3"
  },
  "language_info": {
   "codemirror_mode": {
    "name": "ipython",
    "version": 3
   },
   "file_extension": ".py",
   "mimetype": "text/x-python",
   "name": "python",
   "nbconvert_exporter": "python",
   "pygments_lexer": "ipython3",
   "version": "3.6.9"
  }
 },
 "nbformat": 4,
 "nbformat_minor": 4
}
